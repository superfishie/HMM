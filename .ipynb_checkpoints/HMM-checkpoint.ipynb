{
 "cells": [
  {
   "cell_type": "markdown",
   "metadata": {},
   "source": [
    "# Learning Hmm By hmmlearn"
   ]
  },
  {
   "cell_type": "markdown",
   "metadata": {},
   "source": [
    "## 一. hmmlearn概述\n",
    "   hmmlearn实现了三种HMM模型类，按照观测状态是连续状态还是离散状态，可以分为两类。GaussianHMM和GMMHMM是连续观测状态的HMM模型，而MultinomialHMM是离散观测状态的模型，也是我们在HMM原理系列篇里面使用的模型。    \n",
    "　 对于MultinomialHMM的模型，使用比较简单，\"startprob_\"参数对应我们的隐藏状态初始分布Π, \"transmat_\"对应我们的状态转移矩阵A, \"emissionprob_\"对应我们的观测状态概率矩阵B。   \n",
    "  "
   ]
  },
  {
   "cell_type": "code",
   "execution_count": 375,
   "metadata": {},
   "outputs": [],
   "source": [
    "import numpy as np\n",
    "from hmmlearn import hmm\n",
    "import random"
   ]
  },
  {
   "cell_type": "markdown",
   "metadata": {},
   "source": [
    "下面我们用一个简单的实例来描述上面抽象出的HMM模型。这是一个盒子与球的模型，例子来源于李航的《统计学习方法》。假设我们有3个盒子，每个盒子里都有红色和白色两种球，这三个盒子里球的数量分别是：\n",
    "\n",
    "|盒子|1|2|3|\n",
    "|--|--|--|--|\n",
    "|红球数|5|4|7|\n",
    "|白球数|5|6|3|\n",
    "\n",
    "按照下面的方法从盒子里抽球，开始的时候，从第一个盒子抽球的概率是0.2，从第二个盒子抽球的概率是0.4，从第三个盒子抽球的概率是0.4。以这个概率抽一次球后，将球放回。然后从当前盒子转移到下一个盒子进行抽球。规则是：如果当前抽球的盒子是第一个盒子，则以0.5的概率仍然留在第一个盒子继续抽球，以0.2的概率去第二个盒子抽球，以0.3的概率去第三个盒子抽球。如果当前抽球的盒子是第二个盒子，则以0.5的概率仍然留在第二个盒子继续抽球，以0.3的概率去第一个盒子抽球，以0.2的概率去第三个盒子抽球。如果当前抽球的盒子是第三个盒子，则以0.5的概率仍然留在第三个盒子继续抽球，以0.2的概率去第一个盒子抽球，以0.3的概率去第二个盒子抽球。如此下去，直到重复三次，得到一个球的颜色的观测序列:\n",
    "$$O = \\{红,白, 红\\}$$\n"
   ]
  },
  {
   "cell_type": "code",
   "execution_count": 376,
   "metadata": {},
   "outputs": [],
   "source": [
    "states = [\"box 1\", \"box 2\", \"box3\"]\n",
    "n_states = len(states)\n",
    "\n",
    "observations = [\"red\", \"white\"]\n",
    "n_observations = len(observations)"
   ]
  },
  {
   "cell_type": "markdown",
   "metadata": {},
   "source": [
    "### 二.预测问题 \n",
    "\n",
    "也称为解码问题,给定模型$λ=(A,B,Π)$和观测序列$O=\\{o_1,o_2,...o_T\\}$，求给定观测序列条件下，最可能出现的对应的隐藏状态序列。"
   ]
  },
  {
   "cell_type": "code",
   "execution_count": 377,
   "metadata": {},
   "outputs": [],
   "source": [
    "#隐藏状态的初始概率分布\n",
    "start_probability = np.array([0.2, 0.4, 0.4])\n",
    "\n",
    "# 转移概率矩阵A\n",
    "transition_probability = np.array([\n",
    "  [0.5, 0.2, 0.3],\n",
    "  [0.3, 0.5, 0.2],\n",
    "  [0.2, 0.3, 0.5]\n",
    "])\n",
    "\n",
    "# 观测状态概率矩阵 \n",
    "emission_probability = np.array([\n",
    "  [0.5, 0.5],\n",
    "  [0.4, 0.6],\n",
    "  [0.7, 0.3]\n",
    "])"
   ]
  },
  {
   "cell_type": "code",
   "execution_count": 378,
   "metadata": {},
   "outputs": [],
   "source": [
    "# 配置模型参数\n",
    "model = hmm.MultinomialHMM(n_components=n_states)\n",
    "model.startprob_=start_probability\n",
    "model.transmat_=transition_probability\n",
    "model.emissionprob_=emission_probability"
   ]
  },
  {
   "cell_type": "code",
   "execution_count": 379,
   "metadata": {},
   "outputs": [
    {
     "name": "stdout",
     "output_type": "stream",
     "text": [
      "('The ball picked:', 'red, white, red')\n",
      "('The hidden box', 'box3, box3, box3')\n"
     ]
    }
   ],
   "source": [
    "# 用维特比算法的解码\n",
    "seen = np.array([[0,1,0]]).T\n",
    "logprob, box = model.decode(seen, algorithm=\"viterbi\")\n",
    "print(\"The ball picked:\", \", \".join(map(lambda x: observations[x], seen.reshape(len(seen),))))\n",
    "print(\"The hidden box\", \", \".join(map(lambda x: states[x], box)))"
   ]
  },
  {
   "cell_type": "markdown",
   "metadata": {},
   "source": [
    "也可以用predict的函数,结果一样"
   ]
  },
  {
   "cell_type": "code",
   "execution_count": 100,
   "metadata": {},
   "outputs": [
    {
     "name": "stdout",
     "output_type": "stream",
     "text": [
      "('The ball picked:', 'red, white, red')\n",
      "('The hidden box', 'box3, box3, box3')\n"
     ]
    }
   ],
   "source": [
    "box2 = model.predict(seen)\n",
    "print(\"The ball picked:\", \", \".join(map(lambda x: observations[x],seen.reshape(len(seen),))))\n",
    "print(\"The hidden box\", \", \".join(map(lambda x: states[x], box2)))"
   ]
  },
  {
   "cell_type": "code",
   "execution_count": 101,
   "metadata": {},
   "outputs": [
    {
     "name": "stdout",
     "output_type": "stream",
     "text": [
      "-2.038545309915233\n",
      "0.13021800000000003\n"
     ]
    }
   ],
   "source": [
    "print model.score(seen)\n",
    "print np.exp(model.score(seen))"
   ]
  },
  {
   "cell_type": "markdown",
   "metadata": {},
   "source": [
    "要注意的是score函数返回的是以自然对数为底的对数概率值,我们在HMM问题一中手动计算的结果是未取对数的原始概率是0.13022.\n",
    "$$P(O|\\lambda)=P(\\{红,白, 红\\}|model) = 0.13022$$"
   ]
  },
  {
   "cell_type": "markdown",
   "metadata": {},
   "source": [
    "### 三. 模型参数学习问题\n",
    "给定观测序列$O=\\{o_1,o_2,...o_T\\}$，估计模型$λ=(A,B,Π)$的参数，使该模型下观测序列的条件概率$P(O|λ)$最大"
   ]
  },
  {
   "cell_type": "code",
   "execution_count": 265,
   "metadata": {},
   "outputs": [],
   "source": [
    "def generate_ball_list(n):\n",
    "\n",
    "    # 红的是0 白的是1\n",
    "    box_1 = [1,0,1,0,1,0,1,0,1,0]\n",
    "    box_2 = [1,1,1,1,1,0,1,0,0,0]\n",
    "    box_3 = [1,0,0,1,0,0,0,0,0,1]\n",
    "\n",
    "    boxes= ['box1', 'box2', 'box3']\n",
    "\n",
    "    p_init = [0.2,0.4,0.4]\n",
    "    p_box1 = [0.5,0.2,0.3]\n",
    "    p_box2 = [0.3,0.5,0.2]\n",
    "    p_box3 = [0.2,0.3,0.5]\n",
    "\n",
    "    boxes_dict = {'box1':[box_1,p_box1],\n",
    "                  'box2':[box_2,p_box2],\n",
    "                  'box3':[box_3,p_box3]}\n",
    "\n",
    "    ball_list = []\n",
    "    start_box = np.random.choice(boxes,1,p = p_init)\n",
    "    ball_1 = random.sample(boxes_dict.get(start_box[0])[0],1)[0]\n",
    "    ball_list.append(ball_1)\n",
    "    next_box = np.random.choice(boxes,1,p=boxes_dict.get(start_box[0])[1])[0]\n",
    "    ball_2 = random.sample(boxes_dict.get(next_box)[0],1)[0]\n",
    "    ball_list.append(ball_2)\n",
    "    for i in range(n-2):\n",
    "        next_box = np.random.choice(boxes,1,p=boxes_dict.get(next_box)[1])[0]\n",
    "        ball_list.append(random.sample(boxes_dict.get(next_box)[0],1)[0])\n",
    "    return ball_list"
   ]
  },
  {
   "cell_type": "code",
   "execution_count": 399,
   "metadata": {},
   "outputs": [],
   "source": [
    "a = generate_ball_list(10)\n",
    "b = generate_ball_list(10)\n",
    "c = generate_ball_list(10)\n",
    "d = generate_ball_list(10)\n",
    "e = generate_ball_list(10)\n",
    "aT = np.array([a]).T\n",
    "# c = np.array([c]).T\n",
    "X2 = np.array([a])"
   ]
  },
  {
   "cell_type": "code",
   "execution_count": 400,
   "metadata": {},
   "outputs": [],
   "source": [
    "a = [0, 0, 0, 0, 0, 0, 0, 1, 1, 0]\n",
    "a = np.array([a])"
   ]
  },
  {
   "cell_type": "code",
   "execution_count": 401,
   "metadata": {},
   "outputs": [],
   "source": [
    "model2 = hmm.MultinomialHMM(n_components=n_states, startprob_prior=np.array([0.2, 0.4, 0.4]), n_iter=50)"
   ]
  },
  {
   "cell_type": "code",
   "execution_count": 402,
   "metadata": {},
   "outputs": [
    {
     "name": "stdout",
     "output_type": "stream",
     "text": [
      "[0.49468598 0.39124571 0.11406831]\n",
      "[[0.24547411 0.49504987 0.25947603]\n",
      " [0.31609957 0.36555442 0.31834601]\n",
      " [0.23643602 0.51554292 0.24802105]]\n",
      "[[0.83440668 0.16559332]\n",
      " [0.30339088 0.69660912]\n",
      " [0.80838688 0.19161312]]\n",
      "-6.638011148123238\n"
     ]
    }
   ],
   "source": [
    "model2.fit(aT)\n",
    "print model2.startprob_\n",
    "print model2.transmat_\n",
    "print model2.emissionprob_\n",
    "print model2.score(aT)"
   ]
  },
  {
   "cell_type": "code",
   "execution_count": null,
   "metadata": {},
   "outputs": [],
   "source": []
  }
 ],
 "metadata": {
  "kernelspec": {
   "display_name": "Python 2",
   "language": "python",
   "name": "python2"
  },
  "language_info": {
   "codemirror_mode": {
    "name": "ipython",
    "version": 2
   },
   "file_extension": ".py",
   "mimetype": "text/x-python",
   "name": "python",
   "nbconvert_exporter": "python",
   "pygments_lexer": "ipython2",
   "version": "2.7.15"
  }
 },
 "nbformat": 4,
 "nbformat_minor": 2
}
